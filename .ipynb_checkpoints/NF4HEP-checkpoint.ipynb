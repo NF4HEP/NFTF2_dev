{
 "cells": [
  {
   "cell_type": "markdown",
   "id": "cf772e12",
   "metadata": {},
   "source": [
    "# Initialize"
   ]
  },
  {
   "cell_type": "code",
   "execution_count": 42,
   "id": "91aae806",
   "metadata": {},
   "outputs": [],
   "source": [
    "import NF4HEP"
   ]
  },
  {
   "cell_type": "code",
   "execution_count": 41,
   "id": "28322182",
   "metadata": {},
   "outputs": [
    {
     "ename": "AttributeError",
     "evalue": "module 'NF4HEP.distributions' has no attribute 'Distributions'",
     "output_type": "error",
     "traceback": [
      "\u001b[1;31m---------------------------------------------------------------------------\u001b[0m",
      "\u001b[1;31mAttributeError\u001b[0m                            Traceback (most recent call last)",
      "\u001b[1;32m~\\AppData\\Local\\Temp\\ipykernel_25628\\25990559.py\u001b[0m in \u001b[0;36m<module>\u001b[1;34m\u001b[0m\n\u001b[1;32m----> 1\u001b[1;33m \u001b[0mprova\u001b[0m \u001b[1;33m=\u001b[0m \u001b[0mdistributions\u001b[0m\u001b[1;33m.\u001b[0m\u001b[0mDistributions\u001b[0m\u001b[1;33m(\u001b[0m\u001b[0mndims\u001b[0m\u001b[1;33m=\u001b[0m\u001b[1;36m2\u001b[0m\u001b[1;33m)\u001b[0m\u001b[1;33m\u001b[0m\u001b[1;33m\u001b[0m\u001b[0m\n\u001b[0m",
      "\u001b[1;31mAttributeError\u001b[0m: module 'NF4HEP.distributions' has no attribute 'Distributions'"
     ]
    }
   ],
   "source": []
  },
  {
   "cell_type": "code",
   "execution_count": 25,
   "id": "0b4d5ad8",
   "metadata": {},
   "outputs": [
    {
     "ename": "ImportError",
     "evalue": "cannot import name 'Distributions' from 'NF4HEP.distributions' (C:\\Users\\Riccardo Torre\\Dropbox\\Work\\09_Resources\\Git\\GitHub\\NormalizingFlowsHD-2\\dev_new\\NF4HEP\\distributions.py)",
     "output_type": "error",
     "traceback": [
      "\u001b[1;31m---------------------------------------------------------------------------\u001b[0m",
      "\u001b[1;31mImportError\u001b[0m                               Traceback (most recent call last)",
      "\u001b[1;32m~\\AppData\\Local\\Temp\\ipykernel_25628\\1135477317.py\u001b[0m in \u001b[0;36m<module>\u001b[1;34m\u001b[0m\n\u001b[0;32m      4\u001b[0m \u001b[1;31m#ADD RELATIVE PATH TO MODULE\u001b[0m\u001b[1;33m\u001b[0m\u001b[1;33m\u001b[0m\u001b[0m\n\u001b[0;32m      5\u001b[0m \u001b[1;33m\u001b[0m\u001b[0m\n\u001b[1;32m----> 6\u001b[1;33m \u001b[1;32mimport\u001b[0m \u001b[0mNF4HEP\u001b[0m\u001b[1;33m\u001b[0m\u001b[1;33m\u001b[0m\u001b[0m\n\u001b[0m\u001b[0;32m      7\u001b[0m \u001b[1;33m\u001b[0m\u001b[0m\n\u001b[0;32m      8\u001b[0m \u001b[1;32mimport\u001b[0m \u001b[0mnumpy\u001b[0m \u001b[1;32mas\u001b[0m \u001b[0mnp\u001b[0m\u001b[1;33m\u001b[0m\u001b[1;33m\u001b[0m\u001b[0m\n",
      "\u001b[1;32m~\\Dropbox\\Work\\09_Resources\\Git\\GitHub\\NormalizingFlowsHD-2\\dev_new\\NF4HEP\\__init__.py\u001b[0m in \u001b[0;36m<module>\u001b[1;34m\u001b[0m\n\u001b[0;32m     11\u001b[0m \u001b[1;32mfrom\u001b[0m \u001b[1;33m.\u001b[0m \u001b[1;32mimport\u001b[0m \u001b[0mcorner\u001b[0m\u001b[1;33m\u001b[0m\u001b[1;33m\u001b[0m\u001b[0m\n\u001b[0;32m     12\u001b[0m \u001b[1;32mfrom\u001b[0m \u001b[1;33m.\u001b[0m\u001b[0mdata\u001b[0m \u001b[1;32mimport\u001b[0m \u001b[0mData\u001b[0m\u001b[1;33m\u001b[0m\u001b[1;33m\u001b[0m\u001b[0m\n\u001b[1;32m---> 13\u001b[1;33m \u001b[1;32mfrom\u001b[0m \u001b[1;33m.\u001b[0m\u001b[0mdistributions\u001b[0m \u001b[1;32mimport\u001b[0m \u001b[0mDistributions\u001b[0m\u001b[1;33m\u001b[0m\u001b[1;33m\u001b[0m\u001b[0m\n\u001b[0m\u001b[0;32m     14\u001b[0m \u001b[1;32mfrom\u001b[0m \u001b[1;33m.\u001b[0m \u001b[1;32mimport\u001b[0m \u001b[0mnf\u001b[0m\u001b[1;33m\u001b[0m\u001b[1;33m\u001b[0m\u001b[0m\n\u001b[0;32m     15\u001b[0m \u001b[1;32mfrom\u001b[0m \u001b[1;33m.\u001b[0m \u001b[1;32mimport\u001b[0m \u001b[0mcspline\u001b[0m\u001b[1;33m\u001b[0m\u001b[1;33m\u001b[0m\u001b[0m\n",
      "\u001b[1;31mImportError\u001b[0m: cannot import name 'Distributions' from 'NF4HEP.distributions' (C:\\Users\\Riccardo Torre\\Dropbox\\Work\\09_Resources\\Git\\GitHub\\NormalizingFlowsHD-2\\dev_new\\NF4HEP\\distributions.py)"
     ]
    }
   ],
   "source": [
    "import sys\n",
    "#os.environ[\"CUDA_VISIBLE_DEVICES\"]=\"0\"\n",
    "sys.dont_write_bytecode = True\n",
    "#ADD RELATIVE PATH TO MODULE\n",
    "\n",
    "import NF4HEP\n",
    "\n",
    "import numpy as np\n",
    "from jupyterthemes import jtplot\n",
    "from matplotlib import pyplot as plt\n",
    "from timeit import default_timer as timer\n",
    "import numpy as np\n",
    "import pandas as pd\n",
    "jtplot.reset()\n",
    "\n",
    "%load_ext tensorboard"
   ]
  },
  {
   "cell_type": "code",
   "execution_count": null,
   "id": "127150be",
   "metadata": {},
   "outputs": [],
   "source": []
  },
  {
   "cell_type": "markdown",
   "id": "320aa28f",
   "metadata": {},
   "source": [
    "## Some inheritance debugging "
   ]
  },
  {
   "cell_type": "code",
   "execution_count": 7,
   "id": "9bd85e5e",
   "metadata": {},
   "outputs": [],
   "source": [
    "class prova():\n",
    "    def __init__(self,\n",
    "                 input1,\n",
    "                 input2):\n",
    "       self.input1 = input1\n",
    "       self.input2 = input2\n",
    "    def prod(self):\n",
    "        return self.input1 * self.input2\n",
    "    def sum(self):\n",
    "        return self.input1 + self.input2\n",
    "\n",
    "class pippo(prova):\n",
    "    def difference(self):\n",
    "        return self.input1 - self.input2\n",
    "    def double_prod(self):\n",
    "        return self.prod() * 2"
   ]
  },
  {
   "cell_type": "code",
   "execution_count": 14,
   "id": "92e26c9d",
   "metadata": {},
   "outputs": [],
   "source": [
    "pp = prova(5,3)"
   ]
  },
  {
   "cell_type": "code",
   "execution_count": 16,
   "id": "a3623304",
   "metadata": {},
   "outputs": [
    {
     "data": {
      "text/plain": [
       "15"
      ]
     },
     "execution_count": 16,
     "metadata": {},
     "output_type": "execute_result"
    }
   ],
   "source": [
    "pp.prod()"
   ]
  },
  {
   "cell_type": "code",
   "execution_count": 17,
   "id": "05e0d052",
   "metadata": {},
   "outputs": [],
   "source": [
    "ppp = pippo(5,3)"
   ]
  },
  {
   "cell_type": "code",
   "execution_count": 19,
   "id": "b7b5d778",
   "metadata": {},
   "outputs": [
    {
     "data": {
      "text/plain": [
       "15"
      ]
     },
     "execution_count": 19,
     "metadata": {},
     "output_type": "execute_result"
    }
   ],
   "source": [
    "ppp.prod()"
   ]
  },
  {
   "cell_type": "code",
   "execution_count": 20,
   "id": "abf08267",
   "metadata": {},
   "outputs": [
    {
     "data": {
      "text/plain": [
       "30"
      ]
     },
     "execution_count": 20,
     "metadata": {},
     "output_type": "execute_result"
    }
   ],
   "source": [
    "ppp.double_prod()"
   ]
  },
  {
   "cell_type": "code",
   "execution_count": 22,
   "id": "888726b7",
   "metadata": {},
   "outputs": [
    {
     "data": {
      "text/plain": [
       "['input1', 'input2']"
      ]
     },
     "execution_count": 22,
     "metadata": {},
     "output_type": "execute_result"
    }
   ],
   "source": [
    "sorted(ppp.__dict__.keys(),key=str.lower)"
   ]
  },
  {
   "cell_type": "code",
   "execution_count": 23,
   "id": "dd94f422",
   "metadata": {},
   "outputs": [
    {
     "data": {
      "text/plain": [
       "['difference', 'double_prod', 'prod', 'sum']"
      ]
     },
     "execution_count": 23,
     "metadata": {},
     "output_type": "execute_result"
    }
   ],
   "source": [
    "[func for func in dir(ppp) if callable(getattr(ppp, func)) and not func.startswith(\"__\")]"
   ]
  },
  {
   "cell_type": "code",
   "execution_count": 24,
   "id": "35231bf2",
   "metadata": {},
   "outputs": [
    {
     "data": {
      "text/plain": [
       "<__main__.pippo at 0x150138ddfd0>"
      ]
     },
     "execution_count": 24,
     "metadata": {},
     "output_type": "execute_result"
    }
   ],
   "source": [
    "ppp"
   ]
  },
  {
   "cell_type": "code",
   "execution_count": null,
   "id": "b5b3a65b",
   "metadata": {},
   "outputs": [],
   "source": []
  },
  {
   "cell_type": "code",
   "execution_count": null,
   "id": "3fe224d5",
   "metadata": {},
   "outputs": [],
   "source": []
  }
 ],
 "metadata": {
  "hide_input": false,
  "kernelspec": {
   "display_name": "Python [conda env:TensorFlow2-GPU]",
   "language": "python",
   "name": "conda-env-TensorFlow2-GPU-py"
  },
  "language_info": {
   "codemirror_mode": {
    "name": "ipython",
    "version": 3
   },
   "file_extension": ".py",
   "mimetype": "text/x-python",
   "name": "python",
   "nbconvert_exporter": "python",
   "pygments_lexer": "ipython3",
   "version": "3.9.7"
  },
  "toc": {
   "base_numbering": 1,
   "nav_menu": {},
   "number_sections": true,
   "sideBar": true,
   "skip_h1_title": false,
   "title_cell": "Table of Contents",
   "title_sidebar": "Contents",
   "toc_cell": false,
   "toc_position": {},
   "toc_section_display": true,
   "toc_window_display": false
  },
  "varInspector": {
   "cols": {
    "lenName": 16,
    "lenType": 16,
    "lenVar": 40
   },
   "kernels_config": {
    "python": {
     "delete_cmd_postfix": "",
     "delete_cmd_prefix": "del ",
     "library": "var_list.py",
     "varRefreshCmd": "print(var_dic_list())"
    },
    "r": {
     "delete_cmd_postfix": ") ",
     "delete_cmd_prefix": "rm(",
     "library": "var_list.r",
     "varRefreshCmd": "cat(var_dic_list()) "
    }
   },
   "types_to_exclude": [
    "module",
    "function",
    "builtin_function_or_method",
    "instance",
    "_Feature"
   ],
   "window_display": false
  }
 },
 "nbformat": 4,
 "nbformat_minor": 5
}
